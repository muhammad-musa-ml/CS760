{
 "cells": [
  {
   "cell_type": "markdown",
   "metadata": {},
   "source": [
    "# CS 760: M: - HW 3\n",
    "## Programming\n",
    "# Muhammad Musa"
   ]
  },
  {
   "cell_type": "code",
   "execution_count": 6,
   "metadata": {},
   "outputs": [],
   "source": [
    "import numpy as np\n",
    "import pandas as pd\n",
    "import matplotlib.pyplot as plt\n",
    "from tqdm import tqdm"
   ]
  },
  {
   "cell_type": "markdown",
   "metadata": {},
   "source": [
    "## Q1"
   ]
  },
  {
   "cell_type": "code",
   "execution_count": 152,
   "metadata": {},
   "outputs": [
    {
     "data": {
      "text/html": [
       "<div>\n",
       "<style scoped>\n",
       "    .dataframe tbody tr th:only-of-type {\n",
       "        vertical-align: middle;\n",
       "    }\n",
       "\n",
       "    .dataframe tbody tr th {\n",
       "        vertical-align: top;\n",
       "    }\n",
       "\n",
       "    .dataframe thead th {\n",
       "        text-align: right;\n",
       "    }\n",
       "</style>\n",
       "<table border=\"1\" class=\"dataframe\">\n",
       "  <thead>\n",
       "    <tr style=\"text-align: right;\">\n",
       "      <th></th>\n",
       "      <th>Feature1</th>\n",
       "      <th>Feature2</th>\n",
       "      <th>Label</th>\n",
       "    </tr>\n",
       "  </thead>\n",
       "  <tbody>\n",
       "    <tr>\n",
       "      <th>0</th>\n",
       "      <td>-0.333338</td>\n",
       "      <td>-0.087171</td>\n",
       "      <td>0</td>\n",
       "    </tr>\n",
       "    <tr>\n",
       "      <th>1</th>\n",
       "      <td>-1.531730</td>\n",
       "      <td>0.358194</td>\n",
       "      <td>1</td>\n",
       "    </tr>\n",
       "    <tr>\n",
       "      <th>2</th>\n",
       "      <td>1.549590</td>\n",
       "      <td>-0.364050</td>\n",
       "      <td>0</td>\n",
       "    </tr>\n",
       "    <tr>\n",
       "      <th>3</th>\n",
       "      <td>-1.349910</td>\n",
       "      <td>0.252063</td>\n",
       "      <td>1</td>\n",
       "    </tr>\n",
       "    <tr>\n",
       "      <th>4</th>\n",
       "      <td>1.283850</td>\n",
       "      <td>-0.531146</td>\n",
       "      <td>0</td>\n",
       "    </tr>\n",
       "    <tr>\n",
       "      <th>...</th>\n",
       "      <td>...</td>\n",
       "      <td>...</td>\n",
       "      <td>...</td>\n",
       "    </tr>\n",
       "    <tr>\n",
       "      <th>195</th>\n",
       "      <td>-0.697750</td>\n",
       "      <td>1.098280</td>\n",
       "      <td>1</td>\n",
       "    </tr>\n",
       "    <tr>\n",
       "      <th>196</th>\n",
       "      <td>1.161160</td>\n",
       "      <td>-0.733751</td>\n",
       "      <td>0</td>\n",
       "    </tr>\n",
       "    <tr>\n",
       "      <th>197</th>\n",
       "      <td>-1.288480</td>\n",
       "      <td>0.443773</td>\n",
       "      <td>1</td>\n",
       "    </tr>\n",
       "    <tr>\n",
       "      <th>198</th>\n",
       "      <td>-1.384200</td>\n",
       "      <td>0.526523</td>\n",
       "      <td>1</td>\n",
       "    </tr>\n",
       "    <tr>\n",
       "      <th>199</th>\n",
       "      <td>-0.076601</td>\n",
       "      <td>-0.707686</td>\n",
       "      <td>0</td>\n",
       "    </tr>\n",
       "  </tbody>\n",
       "</table>\n",
       "<p>200 rows × 3 columns</p>\n",
       "</div>"
      ],
      "text/plain": [
       "     Feature1  Feature2  Label\n",
       "0   -0.333338 -0.087171      0\n",
       "1   -1.531730  0.358194      1\n",
       "2    1.549590 -0.364050      0\n",
       "3   -1.349910  0.252063      1\n",
       "4    1.283850 -0.531146      0\n",
       "..        ...       ...    ...\n",
       "195 -0.697750  1.098280      1\n",
       "196  1.161160 -0.733751      0\n",
       "197 -1.288480  0.443773      1\n",
       "198 -1.384200  0.526523      1\n",
       "199 -0.076601 -0.707686      0\n",
       "\n",
       "[200 rows x 3 columns]"
      ]
     },
     "execution_count": 152,
     "metadata": {},
     "output_type": "execute_result"
    }
   ],
   "source": [
    "filename = \"D2z.txt\"\n",
    "df = pd.read_csv(filename, sep=\" \", header = None, names=[\"Feature1\", \"Feature2\", \"Label\"])\n",
    "df"
   ]
  },
  {
   "cell_type": "code",
   "execution_count": 355,
   "metadata": {},
   "outputs": [],
   "source": [
    "# making the test dataset\n",
    "x = np.linspace(-2,2,41)\n",
    "y = np.linspace(-2,2,41)\n",
    "xx, yy = np.meshgrid(x,y)\n",
    "coords = np.column_stack((xx.ravel(), yy.ravel()))\n",
    "results = pd.DataFrame(coords)\n",
    "\n",
    "training_set = df.iloc[:, :-1]\n",
    "training_set = training_set.to_numpy()\n"
   ]
  },
  {
   "cell_type": "code",
   "execution_count": 463,
   "metadata": {},
   "outputs": [],
   "source": [
    "def knn(k, training_set, test_point,df, give_count = False):\n",
    "    dists = np.sqrt(np.sum(np.square(training_set - test_point), axis = 1))\n",
    "    first_k = np.argsort(dists, kind='mergesort')[:k]\n",
    "    n_labels = [df.iloc[i, -1] for i in first_k]\n",
    "    most_common = np.bincount(n_labels).argmax()\n",
    "    perc = n_labels.count(1) / len(n_labels)\n",
    "    if give_count:\n",
    "        return most_common, perc\n",
    "    else:\n",
    "        return most_common "
   ]
  },
  {
   "cell_type": "code",
   "execution_count": 379,
   "metadata": {},
   "outputs": [
    {
     "name": "stderr",
     "output_type": "stream",
     "text": [
      "100%|██████████| 1681/1681 [00:00<00:00, 13162.13it/s]\n"
     ]
    }
   ],
   "source": [
    "# running 1NN on the coordinates created\n",
    "labels_1 = []\n",
    "for each in tqdm(coords):\n",
    "    labels_1.append(knn(1,training_set, each,df))"
   ]
  },
  {
   "cell_type": "code",
   "execution_count": 380,
   "metadata": {},
   "outputs": [
    {
     "data": {
      "image/png": "[encoded data removed]",
      "text/plain": [
       "<Figure size 640x480 with 1 Axes>"
      ]
     },
     "metadata": {},
     "output_type": "display_data"
    }
   ],
   "source": [
    "results[\"predictions\"] = labels_1\n",
    "colors = {1.0: 'r', 0.0: 'b'}\n",
    "markers = {1.0:'x', 0.0:'o'}\n",
    "\n",
    "for class_label, color in colors.items():\n",
    "    subset = results[results.iloc[:,-1] == class_label]\n",
    "    plt.scatter(subset.iloc[:,0], subset.iloc[:,1],  c=color, label = class_label, marker='.', s = 2)\n",
    "    \n",
    "for class_label, maker in markers.items():\n",
    "    subset = df[df.iloc[:,-1] == class_label]\n",
    "    if maker == 'x':\n",
    "        plt.scatter(subset.iloc[:,0], subset.iloc[:,1], label = class_label, marker=maker,c = 'black')\n",
    "    else:\n",
    "        plt.scatter(subset.iloc[:,0], subset.iloc[:,1], label = class_label, marker=maker,facecolor = 'none', edgecolor = 'black')\n",
    "        \n",
    "plt.title(\"1NN on a 2D Grid\")\n",
    "plt.show()"
   ]
  },
  {
   "cell_type": "markdown",
   "metadata": {},
   "source": [
    "## Q2"
   ]
  },
  {
   "cell_type": "code",
   "execution_count": 464,
   "metadata": {},
   "outputs": [],
   "source": [
    "filename = \"emails.csv\"\n",
    "df_emails = pd.read_csv(filename)"
   ]
  },
  {
   "cell_type": "code",
   "execution_count": 465,
   "metadata": {},
   "outputs": [
    {
     "name": "stderr",
     "output_type": "stream",
     "text": [
      "C:\\Users\\muham\\AppData\\Local\\Temp\\ipykernel_39160\\3095967430.py:2: FutureWarning: The frame.append method is deprecated and will be removed from pandas in a future version. Use pandas.concat instead.\n",
      "  train2 = df_emails.iloc[0:1000].append(df_emails[2000:])\n",
      "C:\\Users\\muham\\AppData\\Local\\Temp\\ipykernel_39160\\3095967430.py:3: FutureWarning: The frame.append method is deprecated and will be removed from pandas in a future version. Use pandas.concat instead.\n",
      "  train3 = df_emails.iloc[0:2000].append(df_emails[3000:])\n",
      "C:\\Users\\muham\\AppData\\Local\\Temp\\ipykernel_39160\\3095967430.py:4: FutureWarning: The frame.append method is deprecated and will be removed from pandas in a future version. Use pandas.concat instead.\n",
      "  train4 = df_emails.iloc[0:3000].append(df_emails[4000:])\n"
     ]
    }
   ],
   "source": [
    "train1 = df_emails.iloc[1000:]\n",
    "train2 = df_emails.iloc[0:1000].append(df_emails[2000:])\n",
    "train3 = df_emails.iloc[0:2000].append(df_emails[3000:])\n",
    "train4 = df_emails.iloc[0:3000].append(df_emails[4000:])\n",
    "train5 = df_emails.iloc[0:4000]\n",
    "trains = [train1, train2, train3, train4, train5]\n",
    "\n",
    "test1 = df_emails.iloc[:1000]\n",
    "test2 = df_emails.iloc[1000:2000]\n",
    "test3 = df_emails.iloc[2000:3000]\n",
    "test4 = df_emails.iloc[3000:4000]\n",
    "test5 = df_emails.iloc[4000:]\n",
    "tests = [test1, test2, test3, test4, test5]"
   ]
  },
  {
   "cell_type": "code",
   "execution_count": 466,
   "metadata": {},
   "outputs": [],
   "source": [
    "def get_vals(train,test):\n",
    "    training_set = train.iloc[:, 1:-1]\n",
    "    training_set = training_set.to_numpy()\n",
    "    test_coords = test.iloc[:, 1:-1]\n",
    "    test_coords = test_coords.to_numpy()  \n",
    "    return training_set, test_coords"
   ]
  },
  {
   "cell_type": "code",
   "execution_count": 505,
   "metadata": {},
   "outputs": [],
   "source": [
    "def eval_knn(labels, actual, other = False):\n",
    "    tn, tp, fn, fp = 0,0,0,0\n",
    "    for j in range(len(labels)):\n",
    "        if labels[j] == actual.iloc[:,-1].tolist()[j]:\n",
    "            if labels[j] == 0:\n",
    "                tn += 1\n",
    "            else:\n",
    "                tp += 1\n",
    "        else:\n",
    "            if labels[j] == 1:\n",
    "                fp +=1\n",
    "            else:\n",
    "                fn += 1\n",
    "\n",
    "    recall = tp / (tp+fn)\n",
    "    fpr =  fp / (fp + tn)\n",
    "    if other:\n",
    "        return recall, fpr\n",
    "    else:\n",
    "        acc = (tp + tn) / (tp +tn+fn+fp)\n",
    "        prec = tp / (tp+fp)\n",
    "        return acc, prec, recall"
   ]
  },
  {
   "cell_type": "code",
   "execution_count": 397,
   "metadata": {},
   "outputs": [
    {
     "name": "stderr",
     "output_type": "stream",
     "text": [
      "  0%|          | 0/1000 [00:00<?, ?it/s]"
     ]
    },
    {
     "name": "stderr",
     "output_type": "stream",
     "text": [
      "100%|██████████| 1000/1000 [01:23<00:00, 11.98it/s]\n",
      "100%|██████████| 1000/1000 [01:19<00:00, 12.66it/s]\n",
      "100%|██████████| 1000/1000 [01:15<00:00, 13.27it/s]\n",
      "100%|██████████| 1000/1000 [01:19<00:00, 12.57it/s]\n",
      "100%|██████████| 1000/1000 [01:19<00:00, 12.55it/s]\n"
     ]
    }
   ],
   "source": [
    "# 5-fold cross validation for 1NN\n",
    "accs, precs, recalls= [], [], []\n",
    "k = 1\n",
    "for i in (range(len(tests))):\n",
    "    training_set, test_coords = get_vals(trains[i], tests[i])\n",
    "    labels_n = []\n",
    "    for each in tqdm(test_coords):\n",
    "        labels_n.append(knn(k,training_set, each,trains[i]))\n",
    "    accs.append(eval_knn(labels_n, tests[i])[0])\n",
    "    precs.append(eval_knn(labels_n, tests[i])[1])\n",
    "    recalls.append(eval_knn(labels_n, tests[i])[2])"
   ]
  },
  {
   "cell_type": "code",
   "execution_count": 400,
   "metadata": {},
   "outputs": [
    {
     "name": "stdout",
     "output_type": "stream",
     "text": [
      "1NN Rsults:\n",
      "Accuracy for fold 0: 0.825\n",
      "Precision for fold 0: 0.6536312849162011\n",
      "Recall for fold 0: 0.8210526315789474\n",
      "\n",
      "Accuracy for fold 1: 0.855\n",
      "Precision for fold 1: 0.6896551724137931\n",
      "Recall for fold 1: 0.8664259927797834\n",
      "\n",
      "Accuracy for fold 2: 0.863\n",
      "Precision for fold 2: 0.7220543806646526\n",
      "Recall for fold 2: 0.8415492957746479\n",
      "\n",
      "Accuracy for fold 3: 0.854\n",
      "Precision for fold 3: 0.7215568862275449\n",
      "Recall for fold 3: 0.8197278911564626\n",
      "\n",
      "Accuracy for fold 4: 0.775\n",
      "Precision for fold 4: 0.6051948051948052\n",
      "Recall for fold 4: 0.761437908496732\n",
      "\n",
      "\n",
      "Average accuracy: 0.8344000000000001\n",
      "Average precision: 0.6784185058833994\n",
      "Average recall: 0.8220387439573147\n"
     ]
    }
   ],
   "source": [
    "print(\"1NN Rsults:\")\n",
    "for i in range(len(accs)):\n",
    "    print(f\"Accuracy for fold {i}: {accs[i]}\\nPrecision for fold {i}: {precs[i]}\\nRecall for fold {i}: {recalls[i]}\")\n",
    "    print()\n",
    "print(\"\\nAverage accuracy:\", sum(accs)/len(accs))\n",
    "print(\"Average precision:\", sum(precs)/len(precs))\n",
    "print(\"Average recall:\", sum(recalls)/len(recalls))"
   ]
  },
  {
   "cell_type": "markdown",
   "metadata": {},
   "source": [
    "## Q3"
   ]
  },
  {
   "cell_type": "code",
   "execution_count": 329,
   "metadata": {},
   "outputs": [],
   "source": [
    "def get_data_logi(train, test):\n",
    "    x_train = train.iloc[:, 1:-1]\n",
    "    x_train = x_train.to_numpy().T\n",
    "    x_test = test.iloc[:, 1:-1]\n",
    "    x_test = x_test.to_numpy().T\n",
    "    \n",
    "    y_train = train.iloc[:,-1]\n",
    "    y_train = y_train.to_numpy()\n",
    "    y_train = np.expand_dims(y_train, axis=0)\n",
    "    y_test = test.iloc[:,-1]\n",
    "    y_test = y_test.to_numpy()\n",
    "    y_test = np.expand_dims(y_test, axis=0)\n",
    "    return x_train, y_train, x_test, y_test"
   ]
  },
  {
   "cell_type": "code",
   "execution_count": 424,
   "metadata": {},
   "outputs": [],
   "source": [
    "\n",
    "def cross_entropy_loss(h_x, y):\n",
    "    m = y.shape[1]\n",
    "    return (-(y * np.log(h_x+1e-9) + ((1-y)*np.log(1-h_x + 1e-9)))).mean()\n",
    "\n",
    "def sigmoid(x):\n",
    "    x = np.clip(x, -500, 500) \n",
    "    sigmoid = 1/(1+np.exp(-x))\n",
    "    return sigmoid\n",
    "\n",
    "def gradient_des(x, thetas, h_x, y, alpha,bias):\n",
    "    loss = cross_entropy_loss(h_x, y)\n",
    "    updated_g = np.dot(h_x-y, x.transpose()) / x.shape[1]\n",
    "    updated_b = np.mean(h_x-y)\n",
    "    thetas= thetas - alpha*updated_g\n",
    "    bias = bias - alpha*updated_b\n",
    "    return thetas, bias\n",
    "\n",
    "def logi_regression(x_train, y_train, epochs, theta, lr=0.0025, bias =0):\n",
    "    for e in tqdm(range(epochs)):\n",
    "        h_x = sigmoid(np.dot(theta, x_train) + bias)\n",
    "        theta, bias = gradient_des(x_train, theta, h_x, y_train, lr, bias)\n",
    "    return theta, bias\n",
    "\n",
    "def predictions(x_test, theta, bias, threshold = 0.5):\n",
    "    h_x_t =  sigmoid(np.dot(theta, x_test) + bias)\n",
    "    return np.where(h_x_t<threshold, 0,1)\n"
   ]
  },
  {
   "cell_type": "code",
   "execution_count": 486,
   "metadata": {},
   "outputs": [],
   "source": [
    "\n",
    "def eval(y_pred, y_test, other = False):\n",
    "    tp = np.count_nonzero(np.logical_and(y_test == y_pred, y_pred == 1))\n",
    "    tn = np.count_nonzero(np.logical_and(y_test == y_pred, y_pred == 0))\n",
    "    fp = np.count_nonzero(np.logical_and(y_test != y_pred, y_pred == 1))\n",
    "    fn = np.count_nonzero(np.logical_and(y_test != y_pred, y_pred == 0))\n",
    "    \n",
    "    recall = tp / (tp+fn)\n",
    "    fpr =  fp / (fp + tn)\n",
    "    \n",
    "    if other:\n",
    "        return recall, fpr\n",
    "    else:\n",
    "        acc = (tp + tn) / (tp +tn+fn+fp)\n",
    "        prec = tp / (tp+fp)\n",
    "        return acc, prec, recall"
   ]
  },
  {
   "cell_type": "code",
   "execution_count": 421,
   "metadata": {},
   "outputs": [
    {
     "name": "stderr",
     "output_type": "stream",
     "text": [
      "100%|██████████| 5000/5000 [06:37<00:00, 12.59it/s]\n",
      "100%|██████████| 5000/5000 [06:46<00:00, 12.29it/s]\n",
      "100%|██████████| 5000/5000 [06:26<00:00, 12.93it/s]\n",
      "100%|██████████| 5000/5000 [06:20<00:00, 13.13it/s]\n",
      "100%|██████████| 5000/5000 [06:31<00:00, 12.78it/s]\n"
     ]
    }
   ],
   "source": [
    "logi_acc, logi_precs, logi_recalls = [], [], []\n",
    "for i in range(len(tests)):\n",
    "        x_train, y_train, x_test, y_test = get_data_logi(trains[i], tests[i])\n",
    "        theta, bias = logi_regression(x_train, y_train, 5000, np.zeros((1,x_train.shape[0])))\n",
    "        y_pred = (predictions(x_test, theta, bias))\n",
    "        acc, prec, rec = eval(y_pred, y_test)\n",
    "        logi_acc.append(acc)\n",
    "        logi_precs.append(prec)\n",
    "        logi_recalls.append(rec)\n",
    "        "
   ]
  },
  {
   "cell_type": "code",
   "execution_count": 427,
   "metadata": {},
   "outputs": [
    {
     "name": "stdout",
     "output_type": "stream",
     "text": [
      "Logistic Regression Results:\n",
      "Accuracy for fold 0: 0.943\n",
      "Precision for fold 0: 0.9253731343283582\n",
      "Recall for fold 0: 0.8701754385964913\n",
      "\n",
      "Accuracy for fold 1: 0.948\n",
      "Precision for fold 1: 0.9213483146067416\n",
      "Recall for fold 1: 0.8880866425992779\n",
      "\n",
      "Accuracy for fold 2: 0.934\n",
      "Precision for fold 2: 0.9325396825396826\n",
      "Recall for fold 2: 0.8274647887323944\n",
      "\n",
      "Accuracy for fold 3: 0.935\n",
      "Precision for fold 3: 0.9074733096085409\n",
      "Recall for fold 3: 0.8673469387755102\n",
      "\n",
      "Accuracy for fold 4: 0.913\n",
      "Precision for fold 4: 0.8788927335640139\n",
      "Recall for fold 4: 0.8300653594771242\n",
      "\n",
      "\n",
      "Average accuracy: 0.9346\n",
      "Average precision: 0.9131254349294673\n",
      "Average recall: 0.8566278336361595\n"
     ]
    }
   ],
   "source": [
    "print(\"Logistic Regression Results:\")\n",
    "for i in range(len(accs)):\n",
    "    print(f\"Accuracy for fold {i}: {logi_acc[i]}\\nPrecision for fold {i}: {logi_precs[i]}\\nRecall for fold {i}: {logi_recalls[i]}\")\n",
    "    print()\n",
    "print(\"\\nAverage accuracy:\", sum(logi_acc)/len(logi_acc))\n",
    "print(\"Average precision:\", sum(logi_precs)/len(logi_precs))\n",
    "print(\"Average recall:\", sum(logi_recalls)/len(logi_recalls))"
   ]
  },
  {
   "cell_type": "markdown",
   "metadata": {},
   "source": [
    "## Q4"
   ]
  },
  {
   "cell_type": "code",
   "execution_count": 472,
   "metadata": {},
   "outputs": [
    {
     "name": "stderr",
     "output_type": "stream",
     "text": [
      "100%|██████████| 5/5 [06:33<00:00, 78.74s/it]\n",
      "100%|██████████| 5/5 [06:07<00:00, 73.59s/it]\n",
      "100%|██████████| 5/5 [05:55<00:00, 71.15s/it]\n",
      "100%|██████████| 5/5 [05:51<00:00, 70.30s/it]\n",
      "100%|██████████| 5/5 [05:54<00:00, 70.85s/it]\n"
     ]
    }
   ],
   "source": [
    "avg_acc = []\n",
    "for k in [1,3,5,7,10]:\n",
    "    k_accs = []\n",
    "    # k_precs, k_recalls= [], [], []\n",
    "    for i in tqdm(range(len(tests))):\n",
    "        training_set, test_coords = get_vals(trains[i], tests[i])\n",
    "        labels_n = []\n",
    "        for each in (test_coords):\n",
    "            labels_n.append(knn(k,training_set, each,trains[i]))\n",
    "        k_accs.append(eval_knn(labels_n, tests[i])[0])\n",
    "        # k_precs.append(eval_knn(labels_n, tests[i])[1])\n",
    "        # k_recalls.append(eval_knn(labels_n, tests[i])[2])\n",
    "    avg_acc.append(sum(k_accs) / len(k_accs))"
   ]
  },
  {
   "cell_type": "code",
   "execution_count": 473,
   "metadata": {},
   "outputs": [
    {
     "data": {
      "text/plain": [
       "[0.8332, 0.8423999999999999, 0.8417999999999999, 0.8454, 0.8552]"
      ]
     },
     "execution_count": 473,
     "metadata": {},
     "output_type": "execute_result"
    }
   ],
   "source": [
    "avg_acc"
   ]
  },
  {
   "cell_type": "code",
   "execution_count": 474,
   "metadata": {},
   "outputs": [
    {
     "data": {
      "image/png": "[encoded data removed]",
      "text/plain": [
       "<Figure size 640x480 with 1 Axes>"
      ]
     },
     "metadata": {},
     "output_type": "display_data"
    }
   ],
   "source": [
    "# plotting the accuracies\n",
    "plt.plot([1,2,5,7,10], avg_acc, '-o', c = 'b' )\n",
    "plt.title(\"kNN 5-Fold Cross Validation\")\n",
    "plt.xlabel(\"k\")\n",
    "plt.ylabel(\"Average Accuracy\")\n",
    "plt.grid(True)\n",
    "plt.show()"
   ]
  },
  {
   "cell_type": "markdown",
   "metadata": {},
   "source": [
    "## Question 5"
   ]
  },
  {
   "cell_type": "code",
   "execution_count": 475,
   "metadata": {},
   "outputs": [
    {
     "name": "stderr",
     "output_type": "stream",
     "text": [
      "100%|██████████| 1000/1000 [02:26<00:00,  6.82it/s]\n",
      "100%|██████████| 5000/5000 [06:19<00:00, 13.16it/s]\n"
     ]
    }
   ],
   "source": [
    "# 5-NN with no CV:\n",
    "k = 5\n",
    "idx = 4 # getting the last fold\n",
    "training_set, test_coords = get_vals(trains[idx], tests[idx])\n",
    "knn_labels = []\n",
    "knn_conf = []\n",
    "for each in tqdm(test_coords):\n",
    "    knn_labels.append(knn(k,training_set, each,trains[idx], give_count=True)[0])\n",
    "    knn_conf.append(knn(k,training_set, each,trains[idx], give_count=True)[1])\n",
    "\n",
    "# Logistic Regression    \n",
    "x_train, y_train, x_test, y_test = get_data_logi(trains[idx], tests[idx])\n",
    "theta, bias = logi_regression(x_train, y_train, 5000, np.zeros((1,x_train.shape[0])))\n",
    "# y_pred = (predictions(x_test, theta, bias))"
   ]
  },
  {
   "cell_type": "code",
   "execution_count": 503,
   "metadata": {},
   "outputs": [],
   "source": [
    "def get_preds(knn_conf, threshold):\n",
    "    labels = []\n",
    "    for i in knn_conf:\n",
    "        if i <= threshold:\n",
    "            labels.append(0)\n",
    "        else:\n",
    "            labels.append(1)\n",
    "    return labels"
   ]
  },
  {
   "cell_type": "code",
   "execution_count": 510,
   "metadata": {},
   "outputs": [],
   "source": [
    "tprs_logi, fprs_logi= [], []\n",
    "thresholds_logi = np.linspace(0,1,150)\n",
    "for each in thresholds_logi:\n",
    "    y_pred = (predictions(x_test, theta, bias, each))\n",
    "    tpr,fpr = eval(y_pred, y_test, True)\n",
    "    tprs_logi.append(tpr)\n",
    "    fprs_logi.append(fpr)\n",
    "        \n",
    "tprs_knn, fprs_knn= [1], [1]\n",
    "thresholds_knn = np.linspace(0,1,150)\n",
    "for each in thresholds_knn:\n",
    "    y_pred_knn = get_preds(knn_conf, each)\n",
    "    tpr,fpr = eval_knn(y_pred_knn, tests[idx], True)\n",
    "    tprs_knn.append(tpr)\n",
    "    fprs_knn.append(fpr)   \n",
    "tprs_knn.append(0)\n",
    "fprs_knn.append(0)\n",
    "    \n",
    "auc_knn = -np.trapz(tprs_knn, fprs_knn)\n",
    "auc_logi = -np.trapz(tprs_logi, fprs_logi)"
   ]
  },
  {
   "cell_type": "code",
   "execution_count": 511,
   "metadata": {},
   "outputs": [
    {
     "data": {
      "image/png": "[encoded data removed]",
      "text/plain": [
       "<Figure size 640x480 with 1 Axes>"
      ]
     },
     "metadata": {},
     "output_type": "display_data"
    }
   ],
   "source": [
    "plt.plot(fprs_knn, tprs_knn, '-', label = f\"KNeighboursClassifier (AUC = {round(auc_knn, 2)})\")\n",
    "plt.plot(fprs_logi, tprs_logi, '-', c = \"orange\", label = f\"LogisticRegression (AUC = {round(auc_logi, 2)})\")\n",
    "plt.grid(True)\n",
    "plt.legend(loc = \"lower right\")\n",
    "plt.title(\"ROC Curves\")\n",
    "plt.xlabel(\"False Positive Rate (Positive Label: 1)\")\n",
    "plt.ylabel(\"True Positive Rate (Positive Label: 1)\")\n",
    "plt.show()"
   ]
  }
 ],
 "metadata": {
  "kernelspec": {
   "display_name": "base",
   "language": "python",
   "name": "python3"
  },
  "language_info": {
   "codemirror_mode": {
    "name": "ipython",
    "version": 3
   },
   "file_extension": ".py",
   "mimetype": "text/x-python",
   "name": "python",
   "nbconvert_exporter": "python",
   "pygments_lexer": "ipython3",
   "version": "3.11.4"
  }
 },
 "nbformat": 4,
 "nbformat_minor": 2
}
