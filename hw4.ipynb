{
 "cells": [
  {
   "cell_type": "markdown",
   "metadata": {},
   "source": [
    "# Muhammad Musa\n",
    "# CS 760\n",
    "# HW 4"
   ]
  },
  {
   "cell_type": "code",
   "execution_count": 112,
   "metadata": {},
   "outputs": [],
   "source": [
    "import numpy as np\n",
    "import pandas as pd\n",
    "from tqdm import tqdm\n",
    "import matplotlib.pyplot as plt\n",
    "import math\n",
    "from sklearn.metrics import confusion_matrix\n",
    "from tensorflow.keras import layers, models\n",
    "from tensorflow.keras import initializers\n",
    "from tensorflow.keras.optimizers import SGD\n",
    "import seaborn as sns\n",
    "import tensorflow as tf\n",
    "\n",
    "from tensorflow.keras.datasets import mnist\n",
    "(train_images, train_labels), (test_images, test_labels) = mnist.load_data()"
   ]
  },
  {
   "cell_type": "markdown",
   "metadata": {},
   "source": [
    "# Question 4\n",
    "(Question 3 after this)"
   ]
  },
  {
   "cell_type": "code",
   "execution_count": 88,
   "metadata": {},
   "outputs": [],
   "source": [
    "\n",
    "def softmax(x):\n",
    "    e_x = np.exp(x - np.max(x, axis=-1, keepdims=True))\n",
    "    return e_x / np.sum(e_x, axis=-1, keepdims=True)\n",
    "\n",
    "\n",
    "def to_categorical(x, n_col=None):\n",
    "    if n_col == None:\n",
    "        n_col = np.amax(x) + 1\n",
    "    one_hot = np.zeros((x.shape[0], n_col))\n",
    "    one_hot[np.arange(x.shape[0]), x] = 1\n",
    "    return one_hot\n",
    "\n",
    "\n",
    "def cross_entropy_loss(h_x, y):\n",
    "    h_x = np.clip(h_x, 1e-15, 1-1e-15)\n",
    "    return (-(y * np.log(h_x))).sum(axis=1).mean()\n",
    "\n",
    "\n",
    "def sigmoid(x):\n",
    "    x = np.clip(x, -500, 500) \n",
    "    sigmoid = 1/(1+np.exp(-x))\n",
    "    return sigmoid\n",
    "\n",
    "\n",
    "def fit(W1, W2, lr = 0.1, epochs = 2000, X_train = None, Y_train = None):\n",
    "    \n",
    "    losses = []\n",
    "    for _ in tqdm(range(epochs)):\n",
    "    \n",
    "        ################################\n",
    "        ##### FORWARD PROPAGATION ######\n",
    "        ################################\n",
    "        \n",
    "        # W1 and W2 are weights\n",
    "        running_loss = 0\n",
    "        for i in range(len(X_train)):\n",
    "            x_train = X_train[i]\n",
    "            y_train = Y_train[i]\n",
    "            a_1 = sigmoid(x_train.dot(W1.T)) # m x d1\n",
    "            y_hat = softmax(a_1.dot(W2.T))     # m x k\n",
    "            loss = cross_entropy_loss(y_hat, y_train)\n",
    "            \n",
    "            ################################\n",
    "            ##### BACKWARD PROPAGATION #####\n",
    "            ################################\n",
    "            \n",
    "            # W2 updates:\n",
    "            delta2 = (y_hat - y_train )           # m x k\n",
    "            # print(delta2.sum())\n",
    "            W2_update = (a_1.T.dot(delta2)/x_train.shape[0]).T   # k x d1\n",
    "            \n",
    "            # W1 updates\n",
    "            sigmoid_gradient = a_1 * (1-a_1)            # m x d1\n",
    "            delta1 = delta2.dot(W2) * sigmoid_gradient  # m x d1\n",
    "            W1_update = (x_train.T.dot(delta1)/x_train.shape[0]).T       # d1 x d\n",
    "            \n",
    "            ################################\n",
    "            ####### GRADIENT DESCENT #######\n",
    "            ################################\n",
    "            # print(W2.sum(), \"pehle\")\n",
    "            W2 = W2 - lr*W2_update\n",
    "            W1 = W1 - lr*W1_update\n",
    "            running_loss += loss\n",
    "\n",
    "        avg_loss = running_loss / len(X_train)\n",
    "        losses.append(avg_loss)\n",
    "\n",
    "    return W1, W2, losses\n",
    "    \n",
    "def predictions(x_test, W1, W2):\n",
    "    a_1 = sigmoid(x_test.dot(W1.T))     # m x d1 \n",
    "    y_hat = sigmoid(a_1.dot(W2.T))      # m x k\n",
    "    return y_hat"
   ]
  },
  {
   "cell_type": "markdown",
   "metadata": {},
   "source": [
    "## NN From Scratch\n",
    "For the from scratch network, I am using the mnist dataset from keras and instead of using a dataloader, I am making batches myself. "
   ]
  },
  {
   "cell_type": "code",
   "execution_count": 87,
   "metadata": {},
   "outputs": [],
   "source": [
    "d1 = 300\n",
    "\n",
    "\n",
    "X_train = train_images.reshape(np.shape(train_images)[0],-1)/255\n",
    "X_test = test_images.reshape(np.shape(test_images)[0],-1)/255\n",
    "Y_train = to_categorical(train_labels,10)\n",
    "Y_test = to_categorical(test_labels,10)\n",
    "\n",
    "# Initializing W1 and W2 using total numebr of features\n",
    "limit_W1   = 1 / math.sqrt(X_train.shape[1])\n",
    "W1  = np.random.uniform(-limit_W1, limit_W1, (d1, X_train.shape[1]))\n",
    "limit_W2   = 1 / math.sqrt(d1)\n",
    "W2  = np.random.uniform(-limit_W2, limit_W2, (Y_train.shape[1], d1))\n",
    "\n",
    "# making batches from batch size\n",
    "batch_size = 32\n",
    "num_samples = len(X_train)\n",
    "num_batches = num_samples // batch_size\n",
    "X_train_b, Y_train_b = [], []\n",
    "\n",
    "for i in range(num_batches):\n",
    "    start = i * batch_size\n",
    "    end = (i + 1) * batch_size\n",
    "    x = X_train[start:end]\n",
    "    y = Y_train[start:end]\n",
    "    X_train_b.append(x)\n",
    "    Y_train_b.append(y)\n",
    "\n",
    "# For the ones left over I am using batch size 32, in which case there won;t be any left overs, but for batch isze 64, there are)\n",
    "if num_samples % batch_size != 0:\n",
    "    start = num_batches * batch_size\n",
    "    x = X_train[start:]\n",
    "    y = Y_train[start:]\n",
    "    X_train_b.append(x)\n",
    "    Y_train_b.append(y)\n"
   ]
  },
  {
   "cell_type": "code",
   "execution_count": 89,
   "metadata": {},
   "outputs": [
    {
     "name": "stderr",
     "output_type": "stream",
     "text": [
      "100%|██████████| 200/200 [25:32<00:00,  7.66s/it]\n"
     ]
    }
   ],
   "source": [
    "losses = fit(W1, W2, 0.01, epochs = 200, X_train=X_train_b, Y_train=Y_train_b)"
   ]
  },
  {
   "cell_type": "code",
   "execution_count": 93,
   "metadata": {},
   "outputs": [
    {
     "data": {
      "image/png": "[encoded data removed]",
      "text/plain": [
       "<Figure size 640x480 with 1 Axes>"
      ]
     },
     "metadata": {},
     "output_type": "display_data"
    }
   ],
   "source": [
    "plt.plot(losses[-1])\n",
    "plt.xlabel(\"Epochs\")\n",
    "plt.ylabel(\"Cross Entropy Loss\")\n",
    "plt.title(\"Learning Curve for Neural Network made from Scratch\")\n",
    "plt.show()"
   ]
  },
  {
   "cell_type": "code",
   "execution_count": 95,
   "metadata": {},
   "outputs": [
    {
     "name": "stdout",
     "output_type": "stream",
     "text": [
      "Accuracy: 97.18\n",
      "Test Error: 0.028200000000000003\n"
     ]
    }
   ],
   "source": [
    "y_pred = predictions(X_test, losses[0], losses[1])\n",
    "count_self = 0 \n",
    "for i in range(len(y_pred)):\n",
    "    if np.argmax(y_pred[i]) == np.argmax(Y_test[i]):\n",
    "        count_self +=1 \n",
    "print(\"Accuracy:\",count_self*100/len(y_pred))\n",
    "print(\"Test Error:\",1 - (count_self/len(y_pred)))"
   ]
  },
  {
   "cell_type": "markdown",
   "metadata": {},
   "source": [
    "## Running the NN using TensorFlow"
   ]
  },
  {
   "cell_type": "code",
   "execution_count": 102,
   "metadata": {},
   "outputs": [],
   "source": [
    "# We have already loaded MNIST dataset but loading it again here to make sure no previous changes effect dataset for these models\n",
    "# preprocessing again as this time I am not flattening it myslef, but will instead add a flatten layer in the model\n",
    "(train_images, train_labels), (test_images, test_labels) = mnist.load_data()\n",
    "train_images = train_images.reshape((60000, 28, 28, 1)).astype('float32') / 255\n",
    "test_images = test_images.reshape((10000, 28, 28, 1)).astype('float32') / 255\n",
    "train_labels = to_categorical(train_labels, 10)\n",
    "test_labels = to_categorical(test_labels, 10)\n",
    "d1 = 300\n",
    "\n",
    "def tf_model(d1= 300, epochs = 200, bs= 64, uni_w = False, W0 = False,verbose = 0, test_images = test_images, train_images = train_images, test_labels = test_labels, train_labels = train_labels):\n",
    "    model = models.Sequential()\n",
    "    model.add(layers.Flatten(input_shape=(28, 28, 1)))\n",
    "\n",
    "    if uni_w:\n",
    "        def random_weights(shape, dtype=None):\n",
    "            return tf.random.uniform(shape, minval=-1, maxval=1, dtype=dtype)\n",
    "        model.add(layers.Dense(d1, activation='sigmoid', kernel_initializer=random_weights))\n",
    "        model.add(layers.Dense(10, activation='softmax', kernel_initializer = random_weights))\n",
    "        \n",
    "    elif W0:\n",
    "        model.add(layers.Dense(d1, activation='sigmoid', kernel_initializer=initializers.Zeros()))\n",
    "        model.add(layers.Dense(10, activation='softmax', kernel_initializer = initializers.Zeros()))\n",
    "\n",
    "    else:\n",
    "        model.add(layers.Dense(d1, activation='sigmoid'))\n",
    "        model.add(layers.Dense(10, activation='softmax'))\n",
    "\n",
    "    model.compile(optimizer=SGD(learning_rate=0.01), loss='categorical_crossentropy', metrics=['accuracy'])\n",
    "    \n",
    "    history = model.fit(train_images, train_labels, epochs=epochs, batch_size=bs, verbose = verbose)\n",
    "    _, test_acc = model.evaluate(test_images, test_labels)\n",
    "    \n",
    "    return test_acc, history.history['loss']"
   ]
  },
  {
   "cell_type": "markdown",
   "metadata": {},
   "source": [
    "## Running Code for Part 2 of Question 4 (without manual initialization of weights)"
   ]
  },
  {
   "cell_type": "code",
   "execution_count": 111,
   "metadata": {},
   "outputs": [
    {
     "data": {
      "image/png": "[encoded data removed]",
      "text/plain": [
       "<Figure size 640x480 with 1 Axes>"
      ]
     },
     "metadata": {},
     "output_type": "display_data"
    },
    {
     "name": "stdout",
     "output_type": "stream",
     "text": [
      "Test accuracy: 95.95999717712402\n",
      "Test error: 0.040400028228759766\n"
     ]
    }
   ],
   "source": [
    "test_acc, loss = tf_model()\n",
    "\n",
    "plt.plot(loss)\n",
    "plt.xlabel('Epochs')\n",
    "plt.ylabel('Average Loss')\n",
    "plt.title(\"Learning Curve for TensorFlow Neural Network\")\n",
    "plt.show()\n",
    "\n",
    "print(\"Test accuracy:\", test_acc*100)\n",
    "print(\"Test error:\", 1 - test_acc)\n"
   ]
  },
  {
   "cell_type": "markdown",
   "metadata": {},
   "source": [
    "## Running tensorflow NN with initialization of weights to 0"
   ]
  },
  {
   "cell_type": "code",
   "execution_count": 110,
   "metadata": {},
   "outputs": [
    {
     "name": "stdout",
     "output_type": "stream",
     "text": [
      "313/313 [==============================] - 1s 2ms/step - loss: 1.5379 - accuracy: 0.3895\n"
     ]
    },
    {
     "data": {
      "image/png": "[encoded data removed]",
      "text/plain": [
       "<Figure size 640x480 with 1 Axes>"
      ]
     },
     "metadata": {},
     "output_type": "display_data"
    },
    {
     "name": "stdout",
     "output_type": "stream",
     "text": [
      "Test accuracy: 38.94999921321869\n",
      "Test error: 0.6105000078678131\n"
     ]
    }
   ],
   "source": [
    "test_acc_0, losses_0 = tf_model(W0=True, epochs = 300)\n",
    "\n",
    "plt.plot(losses_0)\n",
    "plt.xlabel(\"Epochs\")\n",
    "plt.ylabel(\"Average Loss\")\n",
    "plt.title(\"Learning Curve when weights are initialized to 0\")\n",
    "plt.show()\n",
    "\n",
    "print(\"Test accuracy:\", test_acc_0*100)\n",
    "print(\"Test error:\", 1 - test_acc_0)\n"
   ]
  },
  {
   "cell_type": "markdown",
   "metadata": {},
   "source": [
    "## Running tensorflow NN with initialization of weights to random values between -1 and 1"
   ]
  },
  {
   "cell_type": "code",
   "execution_count": 106,
   "metadata": {},
   "outputs": [
    {
     "data": {
      "image/png": "[encoded data removed]",
      "text/plain": [
       "<Figure size 640x480 with 1 Axes>"
      ]
     },
     "metadata": {},
     "output_type": "display_data"
    },
    {
     "name": "stdout",
     "output_type": "stream",
     "text": [
      "Test accuracy: 95.39999961853027\n",
      "Test accuracy: 0.046000003814697266\n"
     ]
    }
   ],
   "source": [
    "test_acc_uw, losses_uw = tf_model(uni_w=True)\n",
    "\n",
    "plt.plot(losses_uw)\n",
    "plt.xlabel(\"Epochs\")\n",
    "plt.ylabel(\"Average Loss\")\n",
    "plt.title(\"Learning Curve when weights are initialized randomly\")\n",
    "plt.show()\n",
    "\n",
    "print(\"Test accuracy:\", test_acc_uw*100)\n",
    "print(\"Test accuracy:\", 1-test_acc_uw)\n"
   ]
  },
  {
   "cell_type": "markdown",
   "metadata": {},
   "source": [
    "# Question 3\n",
    "## Naive Bayes"
   ]
  },
  {
   "cell_type": "code",
   "execution_count": 36,
   "metadata": {},
   "outputs": [],
   "source": [
    "classes = ['e', 'j', 's']\n",
    "from collections import defaultdict\n",
    "train_set = defaultdict(list)\n",
    "for label in classes:\n",
    "    for rest in range(10):\n",
    "        filename = f\"languageID\\\\{label}{rest}.txt\"\n",
    "        with open(filename, \"r\") as f:\n",
    "            a = f.readlines()\n",
    "            new_a = []\n",
    "            for each in a:\n",
    "                all_of = each.split(\"\\n\")\n",
    "                for one in all_of:\n",
    "                    new_a.append(one)\n",
    "            a = [x for x in new_a if x!=\"\"]\n",
    "            train_set[label].append(a)"
   ]
  },
  {
   "cell_type": "code",
   "execution_count": 37,
   "metadata": {},
   "outputs": [],
   "source": [
    "# training Naive Bayes\n",
    "vocab = []\n",
    "for each in train_set.values():\n",
    "    for all_c in each:\n",
    "        # print(sent)\n",
    "        for sent in all_c:\n",
    "            for char in sent:\n",
    "                # print(char)\n",
    "                vocab.append(char)\n",
    "vocab = set(list(vocab))\n",
    "prior = {}\n",
    "cond_prob = defaultdict(dict)\n",
    "N = 0\n",
    "for _,v in train_set.items():\n",
    "    N += len(v)\n",
    "unique = len(train_set.keys())\n",
    "for c in classes:\n",
    "    class_vocabs = {letter:0 for letter in vocab}\n",
    "    total_vocab = 0\n",
    "    prior[c] = (len(train_set[c]) + 0.5) / (N + unique * 0.5)\n",
    "    for each in train_set[c]:\n",
    "        for sent in each:\n",
    "            for char in sent:\n",
    "                class_vocabs[char] += 1\n",
    "                total_vocab += 1\n",
    "    total_vocab += (len(vocab) * 0.5)\n",
    "    for k, v in class_vocabs.items():\n",
    "        cond_prob[c][k] = (v+0.5) /total_vocab\n"
   ]
  },
  {
   "cell_type": "code",
   "execution_count": 90,
   "metadata": {},
   "outputs": [
    {
     "data": {
      "text/plain": [
       "{'e': 0.3333333333333333, 'j': 0.3333333333333333, 's': 0.3333333333333333}"
      ]
     },
     "execution_count": 90,
     "metadata": {},
     "output_type": "execute_result"
    }
   ],
   "source": [
    "prior"
   ]
  },
  {
   "cell_type": "markdown",
   "metadata": {},
   "source": [
    "### Printing $\\theta_e, \\theta_j$, and $\\theta_s$ for Question 2 and 3"
   ]
  },
  {
   "cell_type": "code",
   "execution_count": 41,
   "metadata": {},
   "outputs": [
    {
     "name": "stdout",
     "output_type": "stream",
     "text": [
      "THETA e :\n",
      "Character\t Prob\n",
      "  \t\t 0.18\n",
      "a \t\t 0.06\n",
      "b \t\t 0.01\n",
      "c \t\t 0.02\n",
      "d \t\t 0.02\n",
      "e \t\t 0.11\n",
      "f \t\t 0.02\n",
      "g \t\t 0.02\n",
      "h \t\t 0.05\n",
      "i \t\t 0.06\n",
      "j \t\t 0.0\n",
      "k \t\t 0.0\n",
      "l \t\t 0.03\n",
      "m \t\t 0.02\n",
      "n \t\t 0.06\n",
      "o \t\t 0.06\n",
      "p \t\t 0.02\n",
      "q \t\t 0.0\n",
      "r \t\t 0.05\n",
      "s \t\t 0.07\n",
      "t \t\t 0.08\n",
      "u \t\t 0.03\n",
      "v \t\t 0.01\n",
      "w \t\t 0.02\n",
      "x \t\t 0.0\n",
      "y \t\t 0.01\n",
      "z \t\t 0.0\n",
      "THETA j :\n",
      "Character\t Prob\n",
      "  \t\t 0.12\n",
      "a \t\t 0.13\n",
      "b \t\t 0.01\n",
      "c \t\t 0.01\n",
      "d \t\t 0.02\n",
      "e \t\t 0.06\n",
      "f \t\t 0.0\n",
      "g \t\t 0.01\n",
      "h \t\t 0.03\n",
      "i \t\t 0.1\n",
      "j \t\t 0.0\n",
      "k \t\t 0.06\n",
      "l \t\t 0.0\n",
      "m \t\t 0.04\n",
      "n \t\t 0.06\n",
      "o \t\t 0.09\n",
      "p \t\t 0.0\n",
      "q \t\t 0.0\n",
      "r \t\t 0.04\n",
      "s \t\t 0.04\n",
      "t \t\t 0.06\n",
      "u \t\t 0.07\n",
      "v \t\t 0.0\n",
      "w \t\t 0.02\n",
      "x \t\t 0.0\n",
      "y \t\t 0.01\n",
      "z \t\t 0.01\n",
      "THETA s :\n",
      "Character\t Prob\n",
      "  \t\t 0.17\n",
      "a \t\t 0.1\n",
      "b \t\t 0.01\n",
      "c \t\t 0.04\n",
      "d \t\t 0.04\n",
      "e \t\t 0.11\n",
      "f \t\t 0.01\n",
      "g \t\t 0.01\n",
      "h \t\t 0.0\n",
      "i \t\t 0.05\n",
      "j \t\t 0.01\n",
      "k \t\t 0.0\n",
      "l \t\t 0.05\n",
      "m \t\t 0.03\n",
      "n \t\t 0.05\n",
      "o \t\t 0.07\n",
      "p \t\t 0.02\n",
      "q \t\t 0.01\n",
      "r \t\t 0.06\n",
      "s \t\t 0.07\n",
      "t \t\t 0.04\n",
      "u \t\t 0.03\n",
      "v \t\t 0.01\n",
      "w \t\t 0.0\n",
      "x \t\t 0.0\n",
      "y \t\t 0.01\n",
      "z \t\t 0.0\n"
     ]
    }
   ],
   "source": [
    "for l in cond_prob:\n",
    "    print(\"THETA\", l, \":\")\n",
    "    print(\"Character\\t Prob\")\n",
    "    temp_dict = dict(sorted(cond_prob[l].items(), key = lambda k: k[0] ))\n",
    "    for k,v in temp_dict.items():\n",
    "        print(k,\"\\t\\t\", round(v,2))"
   ]
  },
  {
   "cell_type": "markdown",
   "metadata": {},
   "source": [
    "### Testing and making test dataset "
   ]
  },
  {
   "cell_type": "code",
   "execution_count": 73,
   "metadata": {},
   "outputs": [],
   "source": [
    "test_data = {}\n",
    "y_labels = []\n",
    "# classes = ['e', 'j', 's']\n",
    "for c in classes:\n",
    "    for rest in range(10, 20):\n",
    "        name_file = c + str(rest)\n",
    "        # print(name_file)\n",
    "        y_labels.append(c)\n",
    "        filename = f\"languageID\\\\{name_file}.txt\"\n",
    "        with open(filename, \"r\") as f:\n",
    "            tt = f.readlines()\n",
    "            new_tt = []\n",
    "            for each in tt:\n",
    "                all_of = each.split(\"\\n\")\n",
    "                for one in all_of:\n",
    "                    new_tt.append(one)\n",
    "            tt = [x for x in new_tt if x!=\"\"]\n",
    "        score = defaultdict(float)\n",
    "        all_chars = []\n",
    "        for sent in tt:\n",
    "            for char in sent:\n",
    "                all_chars.append(char)\n",
    "        test_data[name_file] = all_chars"
   ]
  },
  {
   "cell_type": "code",
   "execution_count": 57,
   "metadata": {},
   "outputs": [],
   "source": [
    "def test_NBC(all_chars, prior, cond_prob):\n",
    "    for c in classes:\n",
    "        score[c] = np.log(prior[c])\n",
    "        for char in all_chars:\n",
    "            if char in cond_prob[c].keys():\n",
    "                score[c] += np.log(cond_prob[c][char])\n",
    "            else:\n",
    "                print(\"This char not in vocab\")\n",
    "    final_class = max(score, key = lambda k:score[k])\n",
    "    return final_class, score"
   ]
  },
  {
   "cell_type": "markdown",
   "metadata": {},
   "source": [
    "# Answering Question 4, 5, 6 Using e10 "
   ]
  },
  {
   "cell_type": "code",
   "execution_count": 58,
   "metadata": {},
   "outputs": [
    {
     "name": "stdout",
     "output_type": "stream",
     "text": [
      "Bag of words vector x:\n"
     ]
    },
    {
     "data": {
      "text/plain": [
       "[(' ', 190),\n",
       " ('a', 139),\n",
       " ('b', 13),\n",
       " ('c', 41),\n",
       " ('d', 47),\n",
       " ('e', 126),\n",
       " ('f', 4),\n",
       " ('g', 11),\n",
       " ('h', 9),\n",
       " ('i', 55),\n",
       " ('j', 13),\n",
       " ('l', 64),\n",
       " ('m', 27),\n",
       " ('n', 67),\n",
       " ('o', 74),\n",
       " ('p', 30),\n",
       " ('q', 8),\n",
       " ('r', 74),\n",
       " ('s', 63),\n",
       " ('t', 38),\n",
       " ('u', 38),\n",
       " ('v', 4),\n",
       " ('x', 5),\n",
       " ('y', 8),\n",
       " ('z', 4)]"
      ]
     },
     "execution_count": 58,
     "metadata": {},
     "output_type": "execute_result"
    }
   ],
   "source": [
    "new_bag = defaultdict(int)\n",
    "all_char  = test_data['e10']\n",
    "for each in all_chars:\n",
    "    new_bag[each] += 1\n",
    "print(\"Bag of words vector x:\")\n",
    "sorted(new_bag.items(), key = lambda k: k[0] )\n"
   ]
  },
  {
   "cell_type": "code",
   "execution_count": 60,
   "metadata": {},
   "outputs": [
    {
     "name": "stdout",
     "output_type": "stream",
     "text": [
      "Probabiliites p(x|y) for all three languages:\n",
      "defaultdict(<class 'int'>, {'e': -3373.4191135625956, 'j': -3744.1349771324235, 's': -3202.7860469521947})\n"
     ]
    }
   ],
   "source": [
    "new_multi = defaultdict(int)\n",
    "for k,v in new_bag.items():\n",
    "    for l in cond_prob:\n",
    "        # print(cond_prob[l][k])\n",
    "        new_multi[l] += (np.log(cond_prob[l][k]) * v)\n",
    "print(\"Probabiliites p(x|y) for all three languages:\")\n",
    "print(new_multi) "
   ]
  },
  {
   "cell_type": "code",
   "execution_count": 61,
   "metadata": {},
   "outputs": [
    {
     "name": "stdout",
     "output_type": "stream",
     "text": [
      "Posterior for each langauge given e10.txt:\n",
      "defaultdict(<class 'float'>, {'e': -7842.964059349239, 'j': -8772.531691363689, 's': -8468.380656299232})\n",
      "And the final class prediction:\n",
      "e\n"
     ]
    }
   ],
   "source": [
    "final_class, score = test_NBC(test_data[\"e10\"], prior,cond_prob)\n",
    "print(\"Posterior for each langauge given e10.txt:\")\n",
    "print(score)\n",
    "print(\"And the final class prediction:\")\n",
    "print(final_class)"
   ]
  },
  {
   "cell_type": "code",
   "execution_count": 92,
   "metadata": {},
   "outputs": [
    {
     "name": "stderr",
     "output_type": "stream",
     "text": [
      "100%|██████████| 30/30 [00:00<00:00, 202.46it/s]\n"
     ]
    },
    {
     "data": {
      "image/png": "[encoded data removed]",
      "text/plain": [
       "<Figure size 640x480 with 2 Axes>"
      ]
     },
     "metadata": {},
     "output_type": "display_data"
    },
    {
     "name": "stdout",
     "output_type": "stream",
     "text": [
      "Accuracy: 100.0\n"
     ]
    }
   ],
   "source": [
    "y_pred = []\n",
    "for _, v in tqdm(test_data.items()):\n",
    "    y_pred.append(test_NBC(v, prior, cond_prob)[0]) \n",
    "# print(y_pred)\n",
    "# print(y_labels)\n",
    "cm = confusion_matrix(y_labels, y_pred)\n",
    "sns.heatmap(cm, annot= True, xticklabels=classes, yticklabels= classes)\n",
    "plt.xlabel(\"Predicted Classes\")\n",
    "plt.ylabel(\"True Classes\")\n",
    "\n",
    "plt.show()\n",
    "\n",
    "count_acc = 0\n",
    "for i in range(len(y_labels)):\n",
    "    if y_labels[i] == y_pred[i]:\n",
    "        count_acc += 1\n",
    "accuracy = count_acc * 100 / len(y_pred) \n",
    "print(\"Accuracy:\" , accuracy)"
   ]
  }
 ],
 "metadata": {
  "kernelspec": {
   "display_name": "base",
   "language": "python",
   "name": "python3"
  },
  "language_info": {
   "codemirror_mode": {
    "name": "ipython",
    "version": 3
   },
   "file_extension": ".py",
   "mimetype": "text/x-python",
   "name": "python",
   "nbconvert_exporter": "python",
   "pygments_lexer": "ipython3",
   "version": "3.11.4"
  }
 },
 "nbformat": 4,
 "nbformat_minor": 2
}
